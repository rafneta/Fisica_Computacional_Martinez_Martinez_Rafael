{
 "cells": [
  {
   "cell_type": "markdown",
   "metadata": {},
   "source": [
    "# Ejercicio/Tarea 3\n",
    "\n",
    "\n",
    "\n",
    "### Rafael Martínez Martínez\n",
    "\n",
    "Crear una rutina que calcule las raices de la siguiente ecuación trascendental: \n",
    "$$x \\tan(x)=\\sqrt{A-x^2},$$\n",
    "esta ecuación tiene interes en la física cuántica de particulas en una dimensión, en particular, sus soluciones estan directamente relacionadas con las eigenenergias del _pozo finito cuadrado_, y el número de soluciones posibles es precisamente el número de estados _ligados_ que caben en el pozo."
   ]
  },
  {
   "cell_type": "code",
   "execution_count": 4,
   "metadata": {
    "collapsed": false
   },
   "outputs": [
    {
     "name": "stdout",
     "output_type": "stream",
     "text": [
      "0.8900586117066734\n"
     ]
    },
    {
     "data": {
      "text/plain": [
       "0.0"
      ]
     },
     "execution_count": 4,
     "metadata": {},
     "output_type": "execute_result"
    }
   ],
   "source": [
    "function f1(x,A)\n",
    "    return x*tan(x)-sqrt(A-x*x)\n",
    "end\n",
    "\n",
    "function f1p(x,A)\n",
    "    return x*(sec(x))*(sec(x))+tan(x)+x*(A-x*x)^-0.5\n",
    "end\n",
    "\n",
    "function fis(x0,A)\n",
    "    cont=1\n",
    "    while abs(f1(x0,A))>0.000001 || cont<=50\n",
    "        x0=x0-(f1(x0,A)/f1p(x0,A))\n",
    "        cont=cont+1\n",
    "    end\n",
    "    return x0\n",
    "end\n",
    "\n",
    "a=fis(1,2) #Llamamos a la función para x0=1, A=2\n",
    "println(a) #Imprimimos el resultado de la función \n",
    "f1(a,2)    #Comprobamos que la apriximaciñon sea correcta"
   ]
  },
  {
   "cell_type": "code",
   "execution_count": null,
   "metadata": {
    "collapsed": true
   },
   "outputs": [],
   "source": []
  }
 ],
 "metadata": {
  "kernelspec": {
   "display_name": "Julia 0.6.0",
   "language": "julia",
   "name": "julia-0.6"
  },
  "language_info": {
   "file_extension": ".jl",
   "mimetype": "application/julia",
   "name": "julia",
   "version": "0.6.0"
  }
 },
 "nbformat": 4,
 "nbformat_minor": 2
}
