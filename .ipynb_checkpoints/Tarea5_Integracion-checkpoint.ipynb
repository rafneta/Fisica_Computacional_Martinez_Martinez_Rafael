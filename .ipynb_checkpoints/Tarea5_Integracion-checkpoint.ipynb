{
 "cells": [
  {
   "cell_type": "markdown",
   "metadata": {},
   "source": [
    " ___\n",
    " <div class=\"alert alert-info\" role=\"info\">\n",
    " <h1>Facultad de Ciencias UNAM </h1>\n",
    "  <h2>Física computacional</h2>\n",
    " <h3>Rafael Martínez Martínez</h3>\n",
    " <h4>Tarea 5: Integración </h4>\n",
    " <p>Fecha de entrega: Martes 29 de agosto de 2017</p>\n",
    " <p>Licenciatura en Matemáticas</p>\n",
    " <p><a href=\"mailto:rafael.martinez@ciencias.unam.mx?Subject=Fisica%20computacional\" target=\"_top\">rafael.martinez@ciencias.unam.mx</a>\n",
    "</p>\n",
    " </div>\n",
    "\n",
    "<div class=\"alert alert-danger\" role=\"danger\">\n",
    "<p class=\"lead\">\n",
    "La tarea tiene animaciones que se aprecian en este <a href=\"https://nbviewer.jupyter.org/github/rafneta/Fisica_Computacional_Martinez_Martinez_Rafael/blob/master/Tarea5_Integracion.ipynb\" tarjet=\"_blank\"> visor de notebooks</a> en github no se ven\n",
    "</p></div>\n",
    "___\n",
    " \n",
    "1. Hacer un notebook en su repositorio de Tareas que contenga una breve explicación de como funcionan los siguientes métodos de integración:\n",
    "\n",
    "2. Método de integración de Riemann, es decír, tomando la definición de integral de Riemann con diferencias finitas.\n",
    "\n",
    "3. Regla del trapecio.\n",
    "\n",
    "4. Regla de Simpson de orden 2, es decir, interpolando con polinomios de orden 2.\n",
    "\n",
    "Pueden consultar Wikipedia.\n",
    "\n",
    "Usen celdas de markdown, recuerden que pueden usar código $\\LaTeX$.\n",
    "\n",
    "Nota: Se darán puntos extra a las tres personas que nos expliquen cada método de integración.\n"
   ]
  },
  {
   "cell_type": "code",
   "execution_count": 45,
   "metadata": {
    "collapsed": false,
    "scrolled": false
   },
   "outputs": [
    {
     "data": {
      "text/html": [
       "<iframe src=\"https://www.desmos.com/calculator/ofhu2d7zdo\" width=\"100%\" height=\"500px\" style=\"border: 1px solid #ccc\" frameborder=0></iframe>"
      ]
     },
     "metadata": {},
     "output_type": "display_data"
    }
   ],
   "source": [
    "display(\"text/html\",\"\"\"<iframe src=\"https://www.desmos.com/calculator/ofhu2d7zdo\" width=\"100%\" height=\"500px\" style=\"border: 1px solid #ccc\" frameborder=0></iframe>\"\"\")"
   ]
  },
  {
   "cell_type": "code",
   "execution_count": 41,
   "metadata": {
    "collapsed": false
   },
   "outputs": [
    {
     "data": {
      "text/html": [
       "<iframe src=\"https://www.desmos.com/calculator/vp7vffhxjp\" width=\"100%\" height=\"500px\" style=\"border: 1px solid #ccc\" frameborder=0></iframe>"
      ]
     },
     "metadata": {},
     "output_type": "display_data"
    }
   ],
   "source": [
    "\n",
    "display(\"text/html\",\"\"\"<iframe src=\"https://www.desmos.com/calculator/vp7vffhxjp\" width=\"100%\" height=\"500px\" style=\"border: 1px solid #ccc\" frameborder=0></iframe>\"\"\")"
   ]
  },
  {
   "cell_type": "code",
   "execution_count": 42,
   "metadata": {
    "collapsed": false
   },
   "outputs": [
    {
     "data": {
      "text/html": [
       "<iframe src=\"https://www.desmos.com/calculator/5cszvlr3fa\" width=\"100%\" height=\"500px\" style=\"border: 1px solid #ccc\" frameborder=0></iframe> "
      ]
     },
     "metadata": {},
     "output_type": "display_data"
    }
   ],
   "source": [
    "display(\"text/html\",\"\"\"<iframe src=\"https://www.desmos.com/calculator/5cszvlr3fa\" width=\"100%\" height=\"500px\" style=\"border: 1px solid #ccc\" frameborder=0></iframe> \"\"\")"
   ]
  },
  {
   "cell_type": "code",
   "execution_count": null,
   "metadata": {
    "collapsed": true
   },
   "outputs": [],
   "source": []
  }
 ],
 "metadata": {
  "anaconda-cloud": {},
  "kernelspec": {
   "display_name": "Julia 0.6.0",
   "language": "julia",
   "name": "julia-0.6"
  },
  "language_info": {
   "file_extension": ".jl",
   "mimetype": "application/julia",
   "name": "julia",
   "version": "0.6.0"
  }
 },
 "nbformat": 4,
 "nbformat_minor": 1
}
