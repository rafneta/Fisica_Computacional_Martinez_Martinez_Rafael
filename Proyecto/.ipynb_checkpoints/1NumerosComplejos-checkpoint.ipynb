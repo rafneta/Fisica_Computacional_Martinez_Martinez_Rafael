{
 "cells": [
  {
   "cell_type": "code",
   "execution_count": 1,
   "metadata": {},
   "outputs": [],
   "source": [
    "from Numeros_Complejos import *"
   ]
  },
  {
   "cell_type": "markdown",
   "metadata": {},
   "source": [
    "# 1. Números complejos y el plano complejo\n",
    "\n",
    "<p>\n",
    "Tomemos el producto cartesiano $\\mathbb{R}^2=\\mathbb{R}\\times\\mathbb{R}=\\left\\lbrace(a,b): a,b\\in\\mathbb R\\right\\rbrace$, normalmente se asigna una variable a los elementos de este conjunto, por ejemplo, en lugar de referirnos al elemento $(6.6,-8.6)$ y cada vez que hagamos referencia a él escribir la pareja, preferimos decir: sea $z=(6.6,-8.6)$, entonces a partir de ese momento cuando se hable de $z$ se sobre entenderá que nos referimos a la pareja en cuestión. \n",
    "</p>\n",
    "\n",
    "<p>\n",
    "Se puede asignar una representación geometrica en un plano al conjunto antes definido, la convención es asociar la primer componente (de izquierda a derecha) al eje horizontal y la segunda componente al eje vertical y dibujar en la intersección dada, ya sea un punto, un segmento de linea recta desde el origen, o ambos; depende a que se quiera hacer referencia. \n",
    "</p>\n",
    "\n",
    "##### Visualización\n",
    "<p>\n",
    "Para obervar la representación gráfica ejecute la siguiente celda con la instrucción\n",
    "</p>\n",
    "\n",
    "```python\n",
    " nc(6.6,-8.6)\n",
    "```\n",
    "\n",
    "<p>\n",
    "Se gráfica el elemento correspondiente y se puede modificar al interactuar con la interfaz,\n",
    "</p>\n",
    "\n",
    "\n"
   ]
  },
  {
   "cell_type": "code",
   "execution_count": 10,
   "metadata": {},
   "outputs": [
    {
     "data": {
      "application/vnd.jupyter.widget-view+json": {
       "model_id": "842f7da772974db7a1b2374e6ed92ee8",
       "version_major": 2,
       "version_minor": 0
      },
      "text/html": [
       "<p>Failed to display Jupyter Widget of type <code>Output</code>.</p>\n",
       "<p>\n",
       "  If you're reading this message in Jupyter Notebook or JupyterLab, it may mean\n",
       "  that the widgets JavaScript is still loading. If this message persists, it\n",
       "  likely means that the widgets JavaScript library is either not installed or\n",
       "  not enabled. See the <a href=\"https://ipywidgets.readthedocs.io/en/stable/user_install.html\">Jupyter\n",
       "  Widgets Documentation</a> for setup instructions.\n",
       "</p>\n",
       "<p>\n",
       "  If you're reading this message in another notebook frontend (for example, a static\n",
       "  rendering on GitHub or <a href=\"https://nbviewer.jupyter.org/\">NBViewer</a>),\n",
       "  it may mean that your frontend doesn't currently support widgets.\n",
       "</p>\n"
      ],
      "text/plain": [
       "Output()"
      ]
     },
     "metadata": {},
     "output_type": "display_data"
    },
    {
     "data": {
      "application/vnd.jupyter.widget-view+json": {
       "model_id": "df81a784dc6c4fd3903afa98b2c354e3",
       "version_major": 2,
       "version_minor": 0
      },
      "text/html": [
       "<p>Failed to display Jupyter Widget of type <code>Tab</code>.</p>\n",
       "<p>\n",
       "  If you're reading this message in Jupyter Notebook or JupyterLab, it may mean\n",
       "  that the widgets JavaScript is still loading. If this message persists, it\n",
       "  likely means that the widgets JavaScript library is either not installed or\n",
       "  not enabled. See the <a href=\"https://ipywidgets.readthedocs.io/en/stable/user_install.html\">Jupyter\n",
       "  Widgets Documentation</a> for setup instructions.\n",
       "</p>\n",
       "<p>\n",
       "  If you're reading this message in another notebook frontend (for example, a static\n",
       "  rendering on GitHub or <a href=\"https://nbviewer.jupyter.org/\">NBViewer</a>),\n",
       "  it may mean that your frontend doesn't currently support widgets.\n",
       "</p>\n"
      ],
      "text/plain": [
       "Tab(children=(HBox(children=(VBox(children=(Box(children=(FloatSlider(value=7.5, continuous_update=False, description=u'\\\\(a\\\\)', max=10.0, min=-10.0, readout_format=u'.1f'),)), Box(children=(FloatSlider(value=7.5, continuous_update=False, description=u'\\\\(b\\\\)', max=10.0, min=-10.0, readout_format=u'.1f'),)), Box(children=(Checkbox(value=False, description=u'Activar'),)))), VBox(children=(Box(children=(FloatText(value=1.5, description=u'\\\\(a\\\\)', step=0.5, style=DescriptionStyle(description_width=u'initial')),)), Box(children=(FloatText(value=-2.5, description=u'\\\\(b\\\\)', step=0.5, style=DescriptionStyle(description_width=u'initial')),)), Box(children=(Checkbox(value=True, description=u'Activar'),))))), layout=Layout(border=u'solid 2px', width=u'100%')), HBox(children=(VBox(children=(Box(children=(Checkbox(value=False, description=u'Activar limites'),)), Box(children=(Checkbox(value=True, description=u'Malla'),)), Box(children=(Button(button_style=u'success', description=u'Guardar', style=ButtonStyle(), tooltip=u'Guardar'),)))), VBox(children=(Box(children=(FloatText(value=-0.5, description=u'Xmin', step=0.5),)), Box(children=(FloatText(value=0.5, description=u'Xmax', step=0.5),)))), VBox(children=(Box(children=(FloatText(value=-0.5, description=u'Ymin', step=0.5),)), Box(children=(FloatText(value=0.5, description=u'Ymax', step=0.5),))))), layout=Layout(border=u'solid 2px', width=u'100%'))), layout=Layout(border=u'solid 2px', width=u'100%'), _titles={u'1': 'Vista', u'0': 'Grafica'})"
      ]
     },
     "metadata": {},
     "output_type": "display_data"
    },
    {
     "data": {
      "application/vnd.jupyter.widget-view+json": {
       "model_id": "73b9a424b42e4bb6b71b594e91dc2527",
       "version_major": 2,
       "version_minor": 0
      },
      "text/html": [
       "<p>Failed to display Jupyter Widget of type <code>Output</code>.</p>\n",
       "<p>\n",
       "  If you're reading this message in Jupyter Notebook or JupyterLab, it may mean\n",
       "  that the widgets JavaScript is still loading. If this message persists, it\n",
       "  likely means that the widgets JavaScript library is either not installed or\n",
       "  not enabled. See the <a href=\"https://ipywidgets.readthedocs.io/en/stable/user_install.html\">Jupyter\n",
       "  Widgets Documentation</a> for setup instructions.\n",
       "</p>\n",
       "<p>\n",
       "  If you're reading this message in another notebook frontend (for example, a static\n",
       "  rendering on GitHub or <a href=\"https://nbviewer.jupyter.org/\">NBViewer</a>),\n",
       "  it may mean that your frontend doesn't currently support widgets.\n",
       "</p>\n"
      ],
      "text/plain": [
       "Output()"
      ]
     },
     "metadata": {},
     "output_type": "display_data"
    },
    {
     "data": {
      "application/vnd.jupyter.widget-view+json": {
       "model_id": "5d6068c96dbb4001b48082a757fb8543",
       "version_major": 2,
       "version_minor": 0
      },
      "text/html": [
       "<p>Failed to display Jupyter Widget of type <code>Tab</code>.</p>\n",
       "<p>\n",
       "  If you're reading this message in Jupyter Notebook or JupyterLab, it may mean\n",
       "  that the widgets JavaScript is still loading. If this message persists, it\n",
       "  likely means that the widgets JavaScript library is either not installed or\n",
       "  not enabled. See the <a href=\"https://ipywidgets.readthedocs.io/en/stable/user_install.html\">Jupyter\n",
       "  Widgets Documentation</a> for setup instructions.\n",
       "</p>\n",
       "<p>\n",
       "  If you're reading this message in another notebook frontend (for example, a static\n",
       "  rendering on GitHub or <a href=\"https://nbviewer.jupyter.org/\">NBViewer</a>),\n",
       "  it may mean that your frontend doesn't currently support widgets.\n",
       "</p>\n"
      ],
      "text/plain": [
       "Tab(children=(HBox(children=(VBox(children=(Box(children=(FloatText(value=1.0, description=u'\\\\(\\\\mathbb{R}e\\\\text{(z)}\\\\)', step=0.5, style=DescriptionStyle(description_width=u'initial')),)), Box(children=(FloatText(value=1.0, description=u'\\\\(\\\\mathbb{I}m\\\\text{(z)}\\\\)', step=0.5, style=DescriptionStyle(description_width=u'initial')),)), Box(children=(Button(button_style=u'success', description=u'Borrar seleccion', style=ButtonStyle(), tooltip=u'Borrar'),)))), VBox(children=(Box(children=(Checkbox(value=False, description=u'|z|'),)), Box(children=(Checkbox(value=False, description=u'\\\\(\\\\angle z\\\\)'),)), Box(children=(Checkbox(value=False, description=u'|z|\\\\(e^{\\\\angle z i}\\\\)'),)))), VBox(children=(Box(children=(Checkbox(value=False, description=u'\\\\(\\\\bar z\\\\)'),)), Box(children=(Checkbox(value=False, description=u'\\\\(\\\\frac{1}{z}\\\\)'),)), Box(children=(Checkbox(value=False, description=u'\\\\(-z\\\\)'),)))), VBox(children=(HBox(children=(Checkbox(value=False, description=u'\\\\(\\\\alpha z\\\\)'), FloatText(value=-0.5, description=u'\\\\(\\\\alpha\\\\)', step=0.5))), HBox(children=(Checkbox(value=False, description=u'\\\\(\\\\sqrt[r]{z}\\\\)'), FloatText(value=2.0, description=u'r', step=0.5))), HBox(children=(Checkbox(value=False, description=u'\\\\(z^p\\\\)'), FloatText(value=-0.5, description=u'\\\\(p\\\\)', step=0.5)))))), layout=Layout(border=u'solid 2px', width=u'100%')), HBox(children=(VBox(children=(Box(children=(Checkbox(value=False, description=u'Activar limites'),)), Box(children=(Checkbox(value=True, description=u'Malla'),)), Box(children=(Button(button_style=u'success', description=u'Guardar', style=ButtonStyle(), tooltip=u'Guardar'),)))), VBox(children=(Box(children=(FloatText(value=-0.5, description=u'Xmin', step=0.5),)), Box(children=(FloatText(value=0.5, description=u'Xmax', step=0.5),)))), VBox(children=(Box(children=(FloatText(value=-0.5, description=u'Ymin', step=0.5),)), Box(children=(FloatText(value=0.5, description=u'Ymax', step=0.5),))))), layout=Layout(border=u'solid 2px', width=u'100%'))), layout=Layout(border=u'solid 2px', width=u'100%'), _titles={u'1': 'Vista', u'0': 'Operaciones'})"
      ]
     },
     "metadata": {},
     "output_type": "display_data"
    },
    {
     "data": {
      "application/vnd.jupyter.widget-view+json": {
       "model_id": "ae926bd99c3c459bb3a50bbec3e524cd",
       "version_major": 2,
       "version_minor": 0
      },
      "text/html": [
       "<p>Failed to display Jupyter Widget of type <code>Output</code>.</p>\n",
       "<p>\n",
       "  If you're reading this message in Jupyter Notebook or JupyterLab, it may mean\n",
       "  that the widgets JavaScript is still loading. If this message persists, it\n",
       "  likely means that the widgets JavaScript library is either not installed or\n",
       "  not enabled. See the <a href=\"https://ipywidgets.readthedocs.io/en/stable/user_install.html\">Jupyter\n",
       "  Widgets Documentation</a> for setup instructions.\n",
       "</p>\n",
       "<p>\n",
       "  If you're reading this message in another notebook frontend (for example, a static\n",
       "  rendering on GitHub or <a href=\"https://nbviewer.jupyter.org/\">NBViewer</a>),\n",
       "  it may mean that your frontend doesn't currently support widgets.\n",
       "</p>\n"
      ],
      "text/plain": [
       "Output()"
      ]
     },
     "metadata": {},
     "output_type": "display_data"
    },
    {
     "data": {
      "application/vnd.jupyter.widget-view+json": {
       "model_id": "2b9b77f0cf624169b097f8cc0dd164be",
       "version_major": 2,
       "version_minor": 0
      },
      "text/html": [
       "<p>Failed to display Jupyter Widget of type <code>Tab</code>.</p>\n",
       "<p>\n",
       "  If you're reading this message in Jupyter Notebook or JupyterLab, it may mean\n",
       "  that the widgets JavaScript is still loading. If this message persists, it\n",
       "  likely means that the widgets JavaScript library is either not installed or\n",
       "  not enabled. See the <a href=\"https://ipywidgets.readthedocs.io/en/stable/user_install.html\">Jupyter\n",
       "  Widgets Documentation</a> for setup instructions.\n",
       "</p>\n",
       "<p>\n",
       "  If you're reading this message in another notebook frontend (for example, a static\n",
       "  rendering on GitHub or <a href=\"https://nbviewer.jupyter.org/\">NBViewer</a>),\n",
       "  it may mean that your frontend doesn't currently support widgets.\n",
       "</p>\n"
      ],
      "text/plain": [
       "Tab(children=(HBox(children=(VBox(children=(Box(children=(FloatText(value=1.5, description=u'\\\\(\\\\mathbb{R}e\\\\text{(}z_1\\\\text{)}\\\\)', step=0.5, style=DescriptionStyle(description_width=u'initial')),)), Box(children=(FloatText(value=-2.5, description=u'\\\\(\\\\mathbb{I}m\\\\text{(}z_1\\\\text{)}\\\\)', step=0.5, style=DescriptionStyle(description_width=u'initial')),)), Box(children=(Button(button_style=u'success', description=u'Borrar seleccion', style=ButtonStyle(), tooltip=u'Borrar'),)))), VBox(children=(Box(children=(FloatText(value=-1.0, description=u'\\\\(\\\\mathbb{R}e\\\\text{(}z_2\\\\text{)}\\\\)', step=0.5, style=DescriptionStyle(description_width=u'initial')),)), Box(children=(FloatText(value=-0.5, description=u'\\\\(\\\\mathbb{I}m\\\\text{(}z_2\\\\text{)}\\\\)', step=0.5, style=DescriptionStyle(description_width=u'initial')),)))), VBox(children=(Box(children=(Checkbox(value=False, description=u'\\\\(z_1+z_2\\\\)'),)), Box(children=(Checkbox(value=False, description=u'\\\\(z_1-z_2\\\\)'),)))), VBox(children=(Box(children=(Checkbox(value=False, description=u'\\\\(z_1*z_2\\\\)'),)), Box(children=(Checkbox(value=False, description=u'\\\\(\\\\frac{z_1}{z_2}\\\\)'),))))), layout=Layout(border=u'solid 2px', width=u'100%')), HBox(children=(VBox(children=(Box(children=(Checkbox(value=False, description=u'Activar limites'),)), Box(children=(Checkbox(value=True, description=u'Malla'),)), Box(children=(Button(button_style=u'success', description=u'Guardar', style=ButtonStyle(), tooltip=u'Guardar'),)))), VBox(children=(Box(children=(FloatText(value=-0.5, description=u'Xmin', step=0.5),)), Box(children=(FloatText(value=0.5, description=u'Xmax', step=0.5),)))), VBox(children=(Box(children=(FloatText(value=-0.5, description=u'Ymin', step=0.5),)), Box(children=(FloatText(value=0.5, description=u'Ymax', step=0.5),))))), layout=Layout(border=u'solid 2px', width=u'100%'))), layout=Layout(border=u'solid 2px', width=u'100%'), _titles={u'1': 'Vista', u'0': 'Operaciones'})"
      ]
     },
     "metadata": {},
     "output_type": "display_data"
    }
   ],
   "source": [
    "nc()\n",
    "nuco()\n",
    "nuscos()"
   ]
  },
  {
   "cell_type": "markdown",
   "metadata": {},
   "source": [
    "\n",
    "<p>\n",
    "Se definirán algunas operaciones unitarias,  en este caso $f$ será una operación unitaria si es una función de tal manera que $f:\\mathbb{R}^2\\rightarrow\\mathbb{R}^2$.\n",
    "</p>\n",
    "\n",
    "<div class='def'>\n",
    "<strong>Definición 1.2</strong> <em>[Conjugación]</em>\n",
    "<p>\n",
    " Sea $z=(a,b)\\in\\mathbb{R}^2$ la operación conjugación $f_c:\\mathbb{R}^2\\rightarrow\\mathbb{R}^2$ se define como \n",
    " $$f_c\\left(z\\right)=(a,-b)$$\n",
    " o utilizando una notación abreviada,\n",
    " $$\\bar z=(a,-b)$$\n",
    "</p>\n",
    "</div>\n",
    "\n",
    "<p>\n",
    "Tenemos dos notaciones para referirnos a la operación conjugación que usaremos de manera insdistinta, aunque la mayor parte de las veces usaremos la notación simplificada. Cabe mencionar que algunos autores utilizan un asterisco para la notación simplificada, esto es, $\\bar z\\equiv z^*$. Podría parecer un poco rebuscado definir la notación de $f_c$ si contamos con la simplificada, pero para algunos conceptos es importante. \n",
    "</p>\n",
    "\n",
    "\n",
    "Observemos que la operación conjugación toma una pareja de números reales y la \"Transforma\" en una nueva pareja donde la segunda componente cambia de signo.\n",
    "\n",
    "<p>\n",
    "Por ejemplo<br>\n",
    "\n",
    "Si $z=(3,0)$ entonces $\\bar z=(3,0)$, <br>\n",
    "Si $z=(-2.4,-9.8)$ entonces $f_c(z)=(-2.4,9.8)$, <br>\n",
    "Si $z=(0,5.7)$ entonces $\\bar z=(0,-5.7)$, \n",
    "</p>\n",
    "\n",
    "<div class=\"def\">\n",
    "<strong>Definición 1.1</strong> <em>[Igualdad de numeros complejos]</em>\n",
    "<p>\n",
    " Los numeros complejos $z_1=a+ib$ y $z_2=c+id$ son iguales si y sólo si \n",
    " $$a=c\\;\\mbox{ y }\\;b=d$$ \n",
    " </p>\n",
    "<div>\n",
    "\n"
   ]
  },
  {
   "cell_type": "markdown",
   "metadata": {},
   "source": [
    "#### Funciones Complejas y mapeos\n",
    "\n",
    "#### Funciones analíticas\n",
    "\n",
    "#### Funciones Elementales\n",
    "\n",
    "#### Integración en el plano complejo\n",
    "\n",
    "#### Series y residuos\n",
    "\n",
    "#### Mapeos Conformes"
   ]
  },
  {
   "cell_type": "code",
   "execution_count": 1,
   "metadata": {},
   "outputs": [
    {
     "data": {
      "text/html": [
       "<link href='http://fonts.googleapis.com/css?family=Alegreya+Sans:100,300,400,500,700,800,900,100italic,300italic,400italic,500italic,700italic,800italic,900italic' rel='stylesheet' type='text/css'>\n",
       "<link href='http://fonts.googleapis.com/css?family=Arvo:400,700,400italic' rel='stylesheet' type='text/css'>\n",
       "<link href='http://fonts.googleapis.com/css?family=PT+Mono' rel='stylesheet' type='text/css'>\n",
       "<link href='http://fonts.googleapis.com/css?family=Shadows+Into+Light' rel='stylesheet' type='text/css'>\n",
       "<link href='http://fonts.googleapis.com/css?family=Nixie+One' rel='stylesheet' type='text/css'>\n",
       "<link href='https://fonts.googleapis.com/css?family=Source+Code+Pro' rel='stylesheet' type='text/css'>\n",
       "<style>\n",
       "\n",
       "@font-face {\n",
       "    font-family: \"Computer Modern\";\n",
       "    src: url('http://mirrors.ctan.org/fonts/cm-unicode/fonts/otf/cmunss.otf');\n",
       "}\n",
       "\n",
       "#notebook_panel { /* main background */\n",
       "    background: rgb(245,245,245);\n",
       "}\n",
       "\n",
       "div.cell { /* set cell width */\n",
       "    width: 1000px;/* 850 */\n",
       "    margin-left:auto;\n",
       "    margin-right:auto;\n",
       "\n",
       "}\n",
       "\n",
       "div #notebook { /* centre the content */\n",
       "    background: #fff; /* white background for content */\n",
       "    width: 1150px;\n",
       "    margin: auto;\n",
       "    margin-left:auto;\n",
       "    margin-right:auto;\n",
       "\n",
       "}\n",
       "\n",
       "#notebook li { /* More space between bullet points */\n",
       "    margin-top:0.8em;\n",
       "}\n",
       "\n",
       "/* draw border around running cells */\n",
       "div.cell.border-box-sizing.code_cell.running { \n",
       "    border: 1px solid #111;\n",
       "}\n",
       "\n",
       "/* Put a solid color box around each cell and its output, visually linking them*/\n",
       "div.cell.code_cell {\n",
       "    background-color: rgb(256,256,256); \n",
       "    border-radius: 0px; \n",
       "    padding: 0.5em;\n",
       "    /*margin-left:1em;\n",
       "    margin-top: 1em;*/\n",
       "    margin-left:auto;\n",
       "    margin-right:auto;\n",
       "    width:1125px;\n",
       "\n",
       "}\n",
       "\n",
       "div.text_cell_render{\n",
       "    font-family: 'Alegreya Sans' sans-serif;\n",
       "    line-height: 140%;\n",
       "    font-size: 130%;\n",
       "    font-weight: 400;\n",
       "    width:850px;\n",
       "    margin-left:auto;\n",
       "    margin-right:auto;\n",
       "    padding-left: 0px;\n",
       "}\n",
       "\n",
       "\n",
       "/* Formatting for header cells */\n",
       ".text_cell_render h1 {\n",
       "    font-family: 'Nixie One', serif;\n",
       "    font-style:regular;\n",
       "    font-weight: 400;    \n",
       "    font-size: 45pt;\n",
       "    line-height: 100%;\n",
       "    color: rgb(0,51,102);\n",
       "    margin-bottom: 0.5em;\n",
       "    margin-top: 0.5em;\n",
       "    display: block;\n",
       "}\n",
       "\n",
       ".text_cell_render h2 {\n",
       "    font-family: 'Nixie One', serif;\n",
       "    font-weight: 400;\n",
       "    font-size: 30pt;\n",
       "    line-height: 100%;\n",
       "    color: rgb(0,51,102);\n",
       "    margin-bottom: 0.1em;\n",
       "    margin-top: 0.3em;\n",
       "    display: block;\n",
       "}\t\n",
       "\n",
       ".text_cell_render h3 {\n",
       "    font-family: 'Nixie One', serif;\n",
       "    margin-top:16px;\n",
       "    font-size: 22pt;\n",
       "    font-weight: 600;\n",
       "    margin-bottom: 3px;\n",
       "    font-style: regular;\n",
       "    color: rgb(102,102,0);\n",
       "}\n",
       "\n",
       ".text_cell_render h4 {    /*Use this for captions*/\n",
       "    font-family: 'Nixie One', serif;\n",
       "    font-size: 14pt;\n",
       "    text-align: center;\n",
       "    margin-top: 0em;\n",
       "    margin-bottom: 2em;\n",
       "    font-style: regular;\n",
       "}\n",
       "\n",
       ".text_cell_render h5 {  /*Use this for small titles*/\n",
       "    font-family: 'Nixie One', sans-serif;\n",
       "    font-weight: 400;\n",
       "    font-size: 16pt;\n",
       "    color: rgb(163,0,0);\n",
       "    font-style: italic;\n",
       "    margin-bottom: .1em;\n",
       "    margin-top: 0.8em;\n",
       "    display: block;\n",
       "}\n",
       "\n",
       ".text_cell_render h6 { /*use this for copyright note*/\n",
       "    font-family: 'PT Mono', sans-serif;\n",
       "    font-weight: 300;\n",
       "    font-size: 9pt;\n",
       "    line-height: 100%;\n",
       "    color: grey;\n",
       "    margin-bottom: 1px;\n",
       "    margin-top: 1px;\n",
       "}\n",
       "\n",
       ".CodeMirror{\n",
       "    font-family: \"Source Code Pro\";\n",
       "    font-size: 90%;\n",
       "}\n",
       "\n",
       ".alert-box {\n",
       "    padding:10px 10px 10px 36px;\n",
       "    margin:5px;\n",
       "}\n",
       "\n",
       ".success {\n",
       "    color:#666600;\n",
       "    background:rgb(240,242,229);\n",
       "}\n",
       "\n",
       "\n",
       ".def {\t\n",
       "    border-style:solid;\n",
       "    border-width:2px;\n",
       "    /*-webkit-border-radius:15px;\n",
       "\tborder-radius: 15px;*/\n",
       "    border-color:  #366272;/**#CD853F;/**rgba(112, 156, 169, 0.66);*/\n",
       "    /*background: #366272;rgba(54, 98, 114, 0.9);/*#366272;*/\n",
       "\t/*border-top-left-radius:10%;*/\n",
       "\tcolor:black;\n",
       "\tfont-size: 1em;\n",
       "\t/*box-shadow: 10px 10px 10px #2178a3;*/\n",
       "\t/*overflow:scroll;*/\n",
       "\tpadding: 2% 4% 2% 4%;\n",
       "\tbox-sizing: border-box;\n",
       "\twidth:80%;\n",
       "    margin-left:auto;\n",
       "    margin-right:auto;\n",
       "    margin-bottom:2%;\n",
       "    margin-top:2%; background:rgba(200,200,200,0.1);\n",
       "}\n",
       "\n",
       "\n",
       "\n",
       ".text_cell_render p {\n",
       "\tfont-size: 1.0 em;\n",
       "\tline-height: 1.6;\n",
       "\tfont-weight: 300;\n",
       "\ttext-align: justify;\n",
       "    color: black;\n",
       "}\n",
       "\n",
       "\n",
       "\n",
       "</style>\n",
       "<script>\n",
       "    MathJax.Hub.Config({\n",
       "                        TeX: {\n",
       "                           extensions: [\"AMSmath.js\"],\n",
       "                           equationNumbers: { autoNumber: \"AMS\", useLabelIds: true}\n",
       "                           },\n",
       "                tex2jax: {\n",
       "                    inlineMath: [ ['$','$'], [\"\\\\(\",\"\\\\)\"] ],\n",
       "                    displayMath: [ ['$$','$$'], [\"\\\\[\",\"\\\\]\"] ]\n",
       "                },\n",
       "                displayAlign: 'center', // Change this to 'center' to center equations.\n",
       "                \"HTML-CSS\": {\n",
       "                    styles: {'.MathJax_Display': {\"margin\": 4}}\n",
       "                }\n",
       "});\n",
       "</script>"
      ],
      "text/plain": [
       "<IPython.core.display.HTML object>"
      ]
     },
     "execution_count": 1,
     "metadata": {},
     "output_type": "execute_result"
    }
   ],
   "source": [
    "from IPython.core.display import HTML\n",
    "css_file = 'Varios/estilo1.css'\n",
    "HTML(open(css_file, \"r\").read())"
   ]
  },
  {
   "cell_type": "code",
   "execution_count": 9,
   "metadata": {},
   "outputs": [
    {
     "data": {
      "application/vnd.jupyter.widget-view+json": {
       "model_id": "0991546ecd4a45cdab4af8893549aa3a",
       "version_major": 2,
       "version_minor": 0
      },
      "text/html": [
       "<p>Failed to display Jupyter Widget of type <code>Output</code>.</p>\n",
       "<p>\n",
       "  If you're reading this message in Jupyter Notebook or JupyterLab, it may mean\n",
       "  that the widgets JavaScript is still loading. If this message persists, it\n",
       "  likely means that the widgets JavaScript library is either not installed or\n",
       "  not enabled. See the <a href=\"https://ipywidgets.readthedocs.io/en/stable/user_install.html\">Jupyter\n",
       "  Widgets Documentation</a> for setup instructions.\n",
       "</p>\n",
       "<p>\n",
       "  If you're reading this message in another notebook frontend (for example, a static\n",
       "  rendering on GitHub or <a href=\"https://nbviewer.jupyter.org/\">NBViewer</a>),\n",
       "  it may mean that your frontend doesn't currently support widgets.\n",
       "</p>\n"
      ],
      "text/plain": [
       "Output()"
      ]
     },
     "metadata": {},
     "output_type": "display_data"
    },
    {
     "data": {
      "application/vnd.jupyter.widget-view+json": {
       "model_id": "3fe46f98d3424ad38f5f031195c27a79",
       "version_major": 2,
       "version_minor": 0
      },
      "text/html": [
       "<p>Failed to display Jupyter Widget of type <code>Tab</code>.</p>\n",
       "<p>\n",
       "  If you're reading this message in Jupyter Notebook or JupyterLab, it may mean\n",
       "  that the widgets JavaScript is still loading. If this message persists, it\n",
       "  likely means that the widgets JavaScript library is either not installed or\n",
       "  not enabled. See the <a href=\"https://ipywidgets.readthedocs.io/en/stable/user_install.html\">Jupyter\n",
       "  Widgets Documentation</a> for setup instructions.\n",
       "</p>\n",
       "<p>\n",
       "  If you're reading this message in another notebook frontend (for example, a static\n",
       "  rendering on GitHub or <a href=\"https://nbviewer.jupyter.org/\">NBViewer</a>),\n",
       "  it may mean that your frontend doesn't currently support widgets.\n",
       "</p>\n"
      ],
      "text/plain": [
       "Tab(children=(HBox(children=(VBox(children=(Box(children=(FloatText(value=1.0, description=u'\\\\(\\\\mathbb{R}e\\\\text{(z)}\\\\)', step=0.5, style=DescriptionStyle(description_width=u'initial')),)), Box(children=(FloatText(value=1.0, description=u'\\\\(\\\\mathbb{I}m\\\\text{(z)}\\\\)', step=0.5, style=DescriptionStyle(description_width=u'initial')),)), Box(children=(Button(button_style=u'success', description=u'Borrar seleccion', style=ButtonStyle(), tooltip=u'Borrar'),)))), VBox(children=(Box(children=(Checkbox(value=False, description=u'|z|'),)), Box(children=(Checkbox(value=False, description=u'\\\\(\\\\angle z\\\\)'),)), Box(children=(Checkbox(value=False, description=u'|z|\\\\(e^{\\\\angle z i}\\\\)'),)))), VBox(children=(Box(children=(Checkbox(value=False, description=u'\\\\(\\\\bar z\\\\)'),)), Box(children=(Checkbox(value=False, description=u'\\\\(\\\\frac{1}{z}\\\\)'),)), Box(children=(Checkbox(value=False, description=u'\\\\(-z\\\\)'),)))), VBox(children=(HBox(children=(Checkbox(value=False, description=u'\\\\(\\\\alpha z\\\\)'), FloatText(value=-0.5, description=u'\\\\(\\\\alpha\\\\)', step=0.5))), HBox(children=(Checkbox(value=False, description=u'\\\\(\\\\sqrt[r]{z}\\\\)'), FloatText(value=2.0, description=u'r', step=0.5))), HBox(children=(Checkbox(value=False, description=u'\\\\(z^p\\\\)'), FloatText(value=-0.5, description=u'\\\\(p\\\\)', step=0.5)))))), layout=Layout(border=u'solid 2px', width=u'100%')), HBox(children=(VBox(children=(Box(children=(Checkbox(value=False, description=u'Activar limites'),)), Box(children=(Checkbox(value=True, description=u'Malla'),)), Box(children=(Button(button_style=u'success', description=u'Guardar', style=ButtonStyle(), tooltip=u'Guardar'),)))), VBox(children=(Box(children=(FloatText(value=-0.5, description=u'Xmin', step=0.5),)), Box(children=(FloatText(value=0.5, description=u'Xmax', step=0.5),)))), VBox(children=(Box(children=(FloatText(value=-0.5, description=u'Ymin', step=0.5),)), Box(children=(FloatText(value=0.5, description=u'Ymax', step=0.5),))))), layout=Layout(border=u'solid 2px', width=u'100%'))), layout=Layout(border=u'solid 2px', width=u'100%'), _titles={u'1': 'Vista', u'0': 'Operaciones'})"
      ]
     },
     "metadata": {},
     "output_type": "display_data"
    }
   ],
   "source": [
    "nuco()"
   ]
  },
  {
   "cell_type": "code",
   "execution_count": null,
   "metadata": {},
   "outputs": [],
   "source": []
  }
 ],
 "metadata": {
  "anaconda-cloud": {},
  "kernelspec": {
   "display_name": "Python 2",
   "language": "python",
   "name": "python2"
  },
  "language_info": {
   "codemirror_mode": {
    "name": "ipython",
    "version": 2
   },
   "file_extension": ".py",
   "mimetype": "text/x-python",
   "name": "python",
   "nbconvert_exporter": "python",
   "pygments_lexer": "ipython2",
   "version": "2.7.13"
  }
 },
 "nbformat": 4,
 "nbformat_minor": 2
}
