{
 "cells": [
  {
   "cell_type": "code",
   "execution_count": 1,
   "metadata": {
    "collapsed": true
   },
   "outputs": [],
   "source": [
    "from Numeros_Complejos import *"
   ]
  },
  {
   "cell_type": "markdown",
   "metadata": {},
   "source": [
    "# 1. Números complejos y el plano complejo\n",
    "\n",
    "<p>\n",
    "Tomemos el producto cartesiano $\\mathbb{R}^2=\\mathbb{R}\\times\\mathbb{R}=\\left\\lbrace(a,b): a,b\\in\\mathbb R\\right\\rbrace$, normalmente se asigna una variable a los elementos de este conjunto, por ejemplo, en lugar de referirnos al elemento $(6.6,-8.6)$ y cada vez que hagamos referencia a él escribir la pareja, preferimos decir: sea $z=(6.6,-8.6)$, entonces a partir de ese momento cuando se hable de $z$ se sobre entenderá que nos referimos a la pareja en cuestión. \n",
    "</p>\n",
    "\n",
    "<p>\n",
    "Se puede asignar una representación geometrica en un plano al conjunto antes definido, la convención es asociar la primer componente (de izquierda a derecha) al eje horizontal y la segunda componente al eje vertical y dibujar en la intersección dada, ya sea un punto, un segmento de linea recta desde el origen, o ambos; depende a que se quiera hacer referencia. \n",
    "</p>\n",
    "\n",
    "##### Visualización\n",
    "<p>\n",
    "Para obervar la representación gráfica ejecute la siguiente celda con la instrucción\n",
    "</p>\n",
    "\n",
    "```python\n",
    " nc(6.6,-8.6)\n",
    "```\n",
    "\n",
    "<p>\n",
    "Se gráfica el elemento correspondiente y se puede modificar al interactuar con la interfaz,\n",
    "</p>\n",
    "\n",
    "\n"
   ]
  },
  {
   "cell_type": "code",
   "execution_count": 3,
   "metadata": {},
   "outputs": [
    {
     "data": {
      "application/vnd.jupyter.widget-view+json": {
       "model_id": "d8850463ca124a5ba99eb8b2fc662ea5",
       "version_major": 2,
       "version_minor": 0
      },
      "text/plain": [
       "A Jupyter Widget"
      ]
     },
     "metadata": {},
     "output_type": "display_data"
    },
    {
     "data": {
      "application/vnd.jupyter.widget-view+json": {
       "model_id": "1298203af71c442589712aedf46ea003",
       "version_major": 2,
       "version_minor": 0
      },
      "text/plain": [
       "A Jupyter Widget"
      ]
     },
     "metadata": {},
     "output_type": "display_data"
    },
    {
     "data": {
      "application/vnd.jupyter.widget-view+json": {
       "model_id": "d43de9b4b6554168a089e18dabb905ae",
       "version_major": 2,
       "version_minor": 0
      },
      "text/plain": [
       "A Jupyter Widget"
      ]
     },
     "metadata": {},
     "output_type": "display_data"
    },
    {
     "data": {
      "application/vnd.jupyter.widget-view+json": {
       "model_id": "947224a19e47452fa2a4d69b35b7e8db",
       "version_major": 2,
       "version_minor": 0
      },
      "text/plain": [
       "A Jupyter Widget"
      ]
     },
     "metadata": {},
     "output_type": "display_data"
    },
    {
     "data": {
      "application/vnd.jupyter.widget-view+json": {
       "model_id": "063b5b11f3c7490b81a90931ea6e581b",
       "version_major": 2,
       "version_minor": 0
      },
      "text/plain": [
       "A Jupyter Widget"
      ]
     },
     "metadata": {},
     "output_type": "display_data"
    },
    {
     "data": {
      "application/vnd.jupyter.widget-view+json": {
       "model_id": "48030a32c6fe48f6808a6c6d3d2076af",
       "version_major": 2,
       "version_minor": 0
      },
      "text/plain": [
       "A Jupyter Widget"
      ]
     },
     "metadata": {},
     "output_type": "display_data"
    }
   ],
   "source": [
    "nc()\n",
    "nuco()\n",
    "nuscos()"
   ]
  },
  {
   "cell_type": "markdown",
   "metadata": {},
   "source": [
    "\n",
    "<p>\n",
    "Se definirán algunas operaciones unitarias,  en este caso $f$ será una operación unitaria si es una función de tal manera que $f:\\mathbb{R}^2\\rightarrow\\mathbb{R}^2$.\n",
    "</p>\n",
    "\n",
    "<div class='def'>\n",
    "<strong>Definición 1.2</strong> <em>[Conjugación]</em>\n",
    "<p>\n",
    " Sea $z=(a,b)\\in\\mathbb{R}^2$ la operación conjugación $f_c:\\mathbb{R}^2\\rightarrow\\mathbb{R}^2$ se define como \n",
    " $$f_c\\left(z\\right)=(a,-b)$$\n",
    " o utilizando una notación abreviada,\n",
    " $$\\bar z=(a,-b)$$\n",
    "</p>\n",
    "</div>\n",
    "\n",
    "<p>\n",
    "Tenemos dos notaciones para referirnos a la operación conjugación que usaremos de manera insdistinta, aunque la mayor parte de las veces usaremos la notación simplificada. Cabe mencionar que algunos autores utilizan un asterisco para la notación simplificada, esto es, $\\bar z\\equiv z^*$. Podría parecer un poco rebuscado definir la notación de $f_c$ si contamos con la simplificada, pero para algunos conceptos es importante. \n",
    "</p>\n",
    "\n",
    "\n",
    "Observemos que la operación conjugación toma una pareja de números reales y la \"Transforma\" en una nueva pareja donde la segunda componente cambia de signo.\n",
    "\n",
    "<p>\n",
    "Por ejemplo<br>\n",
    "\n",
    "Si $z=(3,0)$ entonces $\\bar z=(3,0)$, <br>\n",
    "Si $z=(-2.4,-9.8)$ entonces $f_c(z)=(-2.4,9.8)$, <br>\n",
    "Si $z=(0,5.7)$ entonces $\\bar z=(0,-5.7)$, \n",
    "</p>\n",
    "\n",
    "<div class=\"def\">\n",
    "<strong>Definición 1.1</strong> <em>[Igualdad de numeros complejos]</em>\n",
    "<p>\n",
    " Los numeros complejos $z_1=a+ib$ y $z_2=c+id$ son iguales si y sólo si \n",
    " $$a=c\\;\\mbox{ y }\\;b=d$$ \n",
    " </p>\n",
    "<div>\n",
    "\n"
   ]
  },
  {
   "cell_type": "markdown",
   "metadata": {},
   "source": [
    "#### Funciones Complejas y mapeos\n",
    "\n",
    "#### Funciones analíticas\n",
    "\n",
    "#### Funciones Elementales\n",
    "\n",
    "#### Integración en el plano complejo\n",
    "\n",
    "#### Series y residuos\n",
    "\n",
    "#### Mapeos Conformes"
   ]
  },
  {
   "cell_type": "code",
   "execution_count": 4,
   "metadata": {},
   "outputs": [
    {
     "data": {
      "text/html": [
       "<link href='http://fonts.googleapis.com/css?family=Alegreya+Sans:100,300,400,500,700,800,900,100italic,300italic,400italic,500italic,700italic,800italic,900italic' rel='stylesheet' type='text/css'>\n",
       "<link href='http://fonts.googleapis.com/css?family=Arvo:400,700,400italic' rel='stylesheet' type='text/css'>\n",
       "<link href='http://fonts.googleapis.com/css?family=PT+Mono' rel='stylesheet' type='text/css'>\n",
       "<link href='http://fonts.googleapis.com/css?family=Shadows+Into+Light' rel='stylesheet' type='text/css'>\n",
       "<link href='http://fonts.googleapis.com/css?family=Nixie+One' rel='stylesheet' type='text/css'>\n",
       "<link href='https://fonts.googleapis.com/css?family=Source+Code+Pro' rel='stylesheet' type='text/css'>\n",
       "<style>\n",
       "\n",
       "@font-face {\n",
       "    font-family: \"Computer Modern\";\n",
       "    src: url('http://mirrors.ctan.org/fonts/cm-unicode/fonts/otf/cmunss.otf');\n",
       "}\n",
       "\n",
       "#notebook_panel { /* main background */\n",
       "    background: rgb(245,245,245);\n",
       "}\n",
       "\n",
       "div.cell { /* set cell width */\n",
       "    width: 1000px;/* 850 */\n",
       "    margin-left:auto;\n",
       "    margin-right:auto;\n",
       "\n",
       "}\n",
       "\n",
       "div #notebook { /* centre the content */\n",
       "    background: #fff; /* white background for content */\n",
       "    width: 1150px;\n",
       "    margin: auto;\n",
       "    margin-left:auto;\n",
       "    margin-right:auto;\n",
       "\n",
       "}\n",
       "\n",
       "#notebook li { /* More space between bullet points */\n",
       "    margin-top:0.8em;\n",
       "}\n",
       "\n",
       "/* draw border around running cells */\n",
       "div.cell.border-box-sizing.code_cell.running { \n",
       "    border: 1px solid #111;\n",
       "}\n",
       "\n",
       "/* Put a solid color box around each cell and its output, visually linking them*/\n",
       "div.cell.code_cell {\n",
       "    background-color: rgb(256,256,256); \n",
       "    border-radius: 0px; \n",
       "    padding: 0.5em;\n",
       "    /*margin-left:1em;\n",
       "    margin-top: 1em;*/\n",
       "    margin-left:auto;\n",
       "    margin-right:auto;\n",
       "    width:1125px;\n",
       "\n",
       "}\n",
       "\n",
       "div.text_cell_render{\n",
       "    font-family: 'Alegreya Sans' sans-serif;\n",
       "    line-height: 140%;\n",
       "    font-size: 130%;\n",
       "    font-weight: 400;\n",
       "    width:850px;\n",
       "    margin-left:auto;\n",
       "    margin-right:auto;\n",
       "    padding-left: 0px;\n",
       "}\n",
       "\n",
       "\n",
       "/* Formatting for header cells */\n",
       ".text_cell_render h1 {\n",
       "    font-family: 'Nixie One', serif;\n",
       "    font-style:regular;\n",
       "    font-weight: 400;    \n",
       "    font-size: 45pt;\n",
       "    line-height: 100%;\n",
       "    color: rgb(0,51,102);\n",
       "    margin-bottom: 0.5em;\n",
       "    margin-top: 0.5em;\n",
       "    display: block;\n",
       "}\n",
       "\n",
       ".text_cell_render h2 {\n",
       "    font-family: 'Nixie One', serif;\n",
       "    font-weight: 400;\n",
       "    font-size: 30pt;\n",
       "    line-height: 100%;\n",
       "    color: rgb(0,51,102);\n",
       "    margin-bottom: 0.1em;\n",
       "    margin-top: 0.3em;\n",
       "    display: block;\n",
       "}\t\n",
       "\n",
       ".text_cell_render h3 {\n",
       "    font-family: 'Nixie One', serif;\n",
       "    margin-top:16px;\n",
       "    font-size: 22pt;\n",
       "    font-weight: 600;\n",
       "    margin-bottom: 3px;\n",
       "    font-style: regular;\n",
       "    color: rgb(102,102,0);\n",
       "}\n",
       "\n",
       ".text_cell_render h4 {    /*Use this for captions*/\n",
       "    font-family: 'Nixie One', serif;\n",
       "    font-size: 14pt;\n",
       "    text-align: center;\n",
       "    margin-top: 0em;\n",
       "    margin-bottom: 2em;\n",
       "    font-style: regular;\n",
       "}\n",
       "\n",
       ".text_cell_render h5 {  /*Use this for small titles*/\n",
       "    font-family: 'Nixie One', sans-serif;\n",
       "    font-weight: 400;\n",
       "    font-size: 16pt;\n",
       "    color: rgb(163,0,0);\n",
       "    font-style: italic;\n",
       "    margin-bottom: .1em;\n",
       "    margin-top: 0.8em;\n",
       "    display: block;\n",
       "}\n",
       "\n",
       ".text_cell_render h6 { /*use this for copyright note*/\n",
       "    font-family: 'PT Mono', sans-serif;\n",
       "    font-weight: 300;\n",
       "    font-size: 9pt;\n",
       "    line-height: 100%;\n",
       "    color: grey;\n",
       "    margin-bottom: 1px;\n",
       "    margin-top: 1px;\n",
       "}\n",
       "\n",
       ".CodeMirror{\n",
       "    font-family: \"Source Code Pro\";\n",
       "    font-size: 90%;\n",
       "}\n",
       "\n",
       ".alert-box {\n",
       "    padding:10px 10px 10px 36px;\n",
       "    margin:5px;\n",
       "}\n",
       "\n",
       ".success {\n",
       "    color:#666600;\n",
       "    background:rgb(240,242,229);\n",
       "}\n",
       "\n",
       "\n",
       ".def {\t\n",
       "    border-style:solid;\n",
       "    border-width:2px;\n",
       "    /*-webkit-border-radius:15px;\n",
       "\tborder-radius: 15px;*/\n",
       "    border-color:  #366272;/**#CD853F;/**rgba(112, 156, 169, 0.66);*/\n",
       "    /*background: #366272;rgba(54, 98, 114, 0.9);/*#366272;*/\n",
       "\t/*border-top-left-radius:10%;*/\n",
       "\tcolor:black;\n",
       "\tfont-size: 1em;\n",
       "\t/*box-shadow: 10px 10px 10px #2178a3;*/\n",
       "\t/*overflow:scroll;*/\n",
       "\tpadding: 2% 4% 2% 4%;\n",
       "\tbox-sizing: border-box;\n",
       "\twidth:80%;\n",
       "    margin-left:auto;\n",
       "    margin-right:auto;\n",
       "    margin-bottom:2%;\n",
       "    margin-top:2%; background:rgba(200,200,200,0.1);\n",
       "}\n",
       "\n",
       "\n",
       "\n",
       ".text_cell_render p {\n",
       "\tfont-size: 1.0 em;\n",
       "\tline-height: 1.6;\n",
       "\tfont-weight: 300;\n",
       "\ttext-align: justify;\n",
       "    color: black;\n",
       "}\n",
       "\n",
       "\n",
       "\n",
       "</style>\n",
       "<script>\n",
       "    MathJax.Hub.Config({\n",
       "                        TeX: {\n",
       "                           extensions: [\"AMSmath.js\"],\n",
       "                           equationNumbers: { autoNumber: \"AMS\", useLabelIds: true}\n",
       "                           },\n",
       "                tex2jax: {\n",
       "                    inlineMath: [ ['$','$'], [\"\\\\(\",\"\\\\)\"] ],\n",
       "                    displayMath: [ ['$$','$$'], [\"\\\\[\",\"\\\\]\"] ]\n",
       "                },\n",
       "                displayAlign: 'center', // Change this to 'center' to center equations.\n",
       "                \"HTML-CSS\": {\n",
       "                    styles: {'.MathJax_Display': {\"margin\": 4}}\n",
       "                }\n",
       "});\n",
       "</script>"
      ],
      "text/plain": [
       "<IPython.core.display.HTML object>"
      ]
     },
     "execution_count": 4,
     "metadata": {},
     "output_type": "execute_result"
    }
   ],
   "source": [
    "from IPython.core.display import HTML\n",
    "css_file = 'Varios/estilo1.css'\n",
    "HTML(open(css_file, \"r\").read())"
   ]
  },
  {
   "cell_type": "code",
   "execution_count": 5,
   "metadata": {},
   "outputs": [
    {
     "data": {
      "application/vnd.jupyter.widget-view+json": {
       "model_id": "d79fac092e51481db153b6986921fcb1",
       "version_major": 2,
       "version_minor": 0
      },
      "text/plain": [
       "A Jupyter Widget"
      ]
     },
     "metadata": {},
     "output_type": "display_data"
    },
    {
     "data": {
      "application/vnd.jupyter.widget-view+json": {
       "model_id": "3e7f03a013004f02aa0f0a70509f5c99",
       "version_major": 2,
       "version_minor": 0
      },
      "text/plain": [
       "A Jupyter Widget"
      ]
     },
     "metadata": {},
     "output_type": "display_data"
    }
   ],
   "source": [
    "nuco()"
   ]
  },
  {
   "cell_type": "code",
   "execution_count": null,
   "metadata": {
    "collapsed": true
   },
   "outputs": [],
   "source": []
  }
 ],
 "metadata": {
  "anaconda-cloud": {},
  "kernelspec": {
   "display_name": "Python [default]",
   "language": "python",
   "name": "python2"
  },
  "language_info": {
   "codemirror_mode": {
    "name": "ipython",
    "version": 2
   },
   "file_extension": ".py",
   "mimetype": "text/x-python",
   "name": "python",
   "nbconvert_exporter": "python",
   "pygments_lexer": "ipython2",
   "version": "2.7.12"
  }
 },
 "nbformat": 4,
 "nbformat_minor": 2
}
