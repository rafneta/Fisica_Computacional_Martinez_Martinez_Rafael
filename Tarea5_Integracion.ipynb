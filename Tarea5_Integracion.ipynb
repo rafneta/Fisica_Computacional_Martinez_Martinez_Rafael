{
 "cells": [
  {
   "cell_type": "markdown",
   "metadata": {},
   "source": [
    " ___\n",
    " <div class=\"alert alert-info\" role=\"info\">\n",
    " <h1>Facultad de Ciencias UNAM </h1>\n",
    "  <h2>Física computacional</h2>\n",
    " <h3>Rafael Martínez Martínez</h3>\n",
    " <h4>Tarea 5: Integración </h4>\n",
    " <p>Fecha de entrega: Martes 29 de agosto de 2017</p>\n",
    " <p>Licenciatura en Matemáticas</p>\n",
    " <p><a href=\"mailto:rafael.martinez@ciencias.unam.mx?Subject=Fisica%20computacional\" target=\"_top\">rafael.martinez@ciencias.unam.mx</a>\n",
    "</p>\n",
    " </div>\n",
    "_________\n",
    "<div class=\"alert alert-danger\" role=\"danger\">\n",
    "<p class=\"lead\">\n",
    "La tarea tiene animaciones que se aprecian en este <a href=\"https://nbviewer.jupyter.org/github/rafneta/Fisica_Computacional_Martinez_Martinez_Rafael/blob/master/Tarea5_Integracion.ipynb\" tarjet=\"_blank\"> visor de notebooks</a> en github no se ven\n",
    "</p>\n",
    "</div>\n",
    "_____________\n",
    "<p class=\"lead\">\n",
    "\n",
    "1. Hacer un notebook en su repositorio de Tareas que contenga una breve explicación de como funcionan los siguientes métodos de integración:<br><br>\n",
    "\n",
    "2. Método de integración de Riemann, es decír, tomando la definición de integral de Riemann con diferencias finitas.<br><br>\n",
    "\n",
    "3. Regla del trapecio.<br><br>\n",
    "\n",
    "4. Regla de Simpson de orden 2, es decir, interpolando con polinomios de orden 2.<br><br>\n",
    "\n",
    "Pueden consultar Wikipedia.<br><br>\n",
    "\n",
    "Usen celdas de markdown, recuerden que pueden usar código $\\LaTeX$.<br><br>\n",
    "\n",
    "Nota: Se darán puntos extra a las tres personas que nos expliquen cada método de integración.\n",
    "</p>"
   ]
  },
  {
   "cell_type": "markdown",
   "metadata": {},
   "source": [
    "<div class=\"alert alert-warning\">\n",
    "<p class=\"lead\">\n",
    "<strong>Integración númerica de Riemann</strong>\n",
    "</p>\n",
    "</div>"
   ]
  },
  {
   "cell_type": "code",
   "execution_count": 56,
   "metadata": {
    "collapsed": false
   },
   "outputs": [
    {
     "data": {
      "text/html": [
       "<iframe src=\"https://www.desmos.com/calculator/ofhu2d7zdo\" width=\"100%\" height=\"500px\" style=\"border: 1px solid #ccc\" frameborder=0></iframe>"
      ]
     },
     "metadata": {},
     "output_type": "display_data"
    }
   ],
   "source": [
    "display(\"text/html\",\"\"\"<iframe src=\"https://www.desmos.com/calculator/ofhu2d7zdo\" width=\"100%\" height=\"500px\" style=\"border: 1px solid #ccc\" frameborder=0></iframe>\"\"\")"
   ]
  },
  {
   "cell_type": "markdown",
   "metadata": {},
   "source": [
    "<div class=\"alert alert-warning\">\n",
    "<p class=\"lead\">\n",
    "<strong>Método del trapecio</strong>\n",
    "</p>\n",
    "</div>\n",
    "<p class=\"lead\">\n",
    "Para derivar la regla del trapecio para aproximar $\\int_a^b f(x)dx$ sean $x_0=a$, $x_1=b$, $h=b-a$, se tiene que por teória de polinimios de Lagrange<br><br>\n",
    "\n",
    "            $$f(x)=\\frac{x-x_1}{x_0-x_1}f(x_0)+\\frac{x-x_0}{x_1-x_0}f(x_1)+f''(\\xi(x))(x-x_0)(x-x_1)$$<br>\n",
    "            \n",
    "con $\\xi(x)\\in(a,b)$, integrando de ambos lados y utilizando el teorema del valor medio para integrales se tiene que<br><br> \n",
    "\n",
    "$$\\int_a^b f(x)dx=\\frac{h}{2}\\left[f(x_0)+f(x_1)\\right]-\\frac{h^3}{12}f''(\\xi(x))$$<br><br>\n",
    "\n",
    "La razón por la cual se llama la regla del trapecio es que, cuando $f$es una función con valores positivos $\\int_a^b f(x) dx$ se aproximar calculando el área del trapecio, mostrado en la siguiente figura<br>\n",
    "\n",
    "<img src=\"https://upload.wikimedia.org/wikipedia/commons/thumb/d/dd/Trapezoidal_rule_illustration.png/316px-Trapezoidal_rule_illustration.png\">\n",
    "\n",
    "Observese que la regla del trapecio dará el resultado exacto cuando se aplique a cualquier función cuya segunda derivada sea identicamente cero, osea, cualquier polinomio de grado uno o menor. <br><br>\n",
    "\n",
    "Este algortimo se puede hacer compuesto, esto es dividor el intervalo $[a,b]$ en $n$ subintervalos y aplicar la regla del trapecio sucesivamente, es decir, si hacemos $h=(b-a)/n$, $x_j=a+jh$ com $j=0,1,\\ldots,n$ y $\\xi\\in(a,b)$ la regla del trapecio queda como<br><br>\n",
    "\n",
    "$$\\int_a^b f(x)dx=\\frac{h}{2}\\left[f(a)+f(b)+2\\sum_{j=1}^{n-1}f(x_j)\\right]-\\frac{(b-a)h^2}{12}f''(\\xi)$$<br><br>\n",
    "\n",
    "<strong>Ejemplo:</strong> Se muestra una animación gráfica (editable) del método del Trapecio compuesto aplicado a la función $f(x)=-sin(x)+0.2x+1$\n",
    "\n",
    "</p>\n"
   ]
  },
  {
   "cell_type": "code",
   "execution_count": 57,
   "metadata": {
    "collapsed": false
   },
   "outputs": [
    {
     "data": {
      "text/html": [
       "<iframe src=\"https://www.desmos.com/calculator/vvszuxtqyk\" width=\"100%\" height=\"500px\" style=\"border: 1px solid #ccc\" frameborder=0></iframe> "
      ]
     },
     "metadata": {},
     "output_type": "display_data"
    }
   ],
   "source": [
    "display(\"text/html\",\"\"\"<iframe src=\"https://www.desmos.com/calculator/vvszuxtqyk\" width=\"100%\" height=\"500px\" style=\"border: 1px solid #ccc\" frameborder=0></iframe> \"\"\")"
   ]
  },
  {
   "cell_type": "markdown",
   "metadata": {},
   "source": [
    "<div class=\"alert alert-warning\">\n",
    "<p class=\"lead\">\n",
    "<strong>Método de Simpson</strong>\n",
    "</p>\n",
    "</div>\n",
    "\n",
    "<p class=\"lead\">\n",
    "Para aproximar $\\int_a^b f(x)dx$ por la regla de Simpson se integra el polinomio de Lagrange de segundo grado sobre el intervalo de $[a,b]$, donde $x_0=a$, $x_1=a+h$, $x_2=b$, donde $h=(b-a)/2$, por teória de polinomios de Lagrange se tiene que <br><br>\n",
    "\n",
    "            $$f(x)=\\frac{(x-x_1)(x-x_2)}{(x_0-x_1)(x_0-x_2)}f(x_0)+\\frac{(x-x_0)(x-x_2)}{(x_1-x_0)(x_1-x_2)}f(x_1)+\\frac{(x-x_0)(x-x_1)}{(x_2-x_0)(x_2-x_1)}f(x_2)+\\frac{f'''(\\xi(x))}{6}(x-x_0)(x-x_1)(x-x_2)$$<br>\n",
    "\n",
    "donde $\\xi(x)\\in(a,b)$ integrando y haciendo algunas sustituciones tanton con taylor y aproximando algunas derivadas se llega a<br><br>\n",
    "\n",
    "$$\\int_a^b f(x)dx=\\frac{h}{3}\\left[f(x_0)+4f(x_1)+f(x_2)\\right]-\\frac{h^5}{90}f^{(4)}(\\xi(x))$$<br><br>\n",
    "\n",
    "Observamos que la regla de Simpson será exacta cuando se aplique a cualquier polinomio de grago menor que 4. A continuación se muestra una figura que ilustra la idea geómetrica de la aproximación\n",
    "\n",
    "<img src=\"https://upload.wikimedia.org/wikipedia/commons/thumb/c/ca/Simpsons_method_illustration.svg/266px-Simpsons_method_illustration.svg.png\"><br>\n",
    "\n",
    "Este algoritmo se puede hacer compuesto, esto es dividir el intervalo $[a,b]$ en $2m$ intervalos con $m\\in\\mathbb{Z}$, y aplicar la regla se Simpson sucesivamente, es decir, si hacemos $h=(b-a)/2m$, $a=x_0<x_1<\\ldots<x_{2m}$, donde $x_j=x_0+jh$ para cada $j=0,1,\\ldots,2m$ y $\\xi\\in (a,b)$, se tiene que <br><br>\n",
    "\n",
    "\n",
    "$$\\int_a^b f(x)dx=\\frac{h}{3}\\left[f(a)+2\\sum_{j=1}^{m-1}f(x_{2j})+4\\sum_{j=1}^mf(x_{2j-1})+f(b)\\right]-\\frac{(b-a)h^4}{180}f^{(4)}(\\xi)$$<br><br>\n",
    "\n",
    "\n",
    "\n",
    "<strong>Ejemplo:</strong> Se muestra una animación gráfica (editable) del método de Simpson compuesto aplicado a la función $f(x)=x^2sin(10x)+x^4-10x^3+25x^2-5x+1$\n",
    "\n",
    "</p>"
   ]
  },
  {
   "cell_type": "code",
   "execution_count": 53,
   "metadata": {
    "collapsed": false
   },
   "outputs": [
    {
     "data": {
      "text/html": [
       "<iframe src=\"https://www.desmos.com/calculator/vp7vffhxjp\" width=\"100%\" height=\"500px\" style=\"border: 1px solid #ccc\" frameborder=0></iframe>"
      ]
     },
     "metadata": {},
     "output_type": "display_data"
    }
   ],
   "source": [
    "\n",
    "display(\"text/html\",\"\"\"<iframe src=\"https://www.desmos.com/calculator/vp7vffhxjp\" width=\"100%\" height=\"500px\" style=\"border: 1px solid #ccc\" frameborder=0></iframe>\"\"\")"
   ]
  },
  {
   "cell_type": "code",
   "execution_count": null,
   "metadata": {
    "collapsed": true
   },
   "outputs": [],
   "source": []
  }
 ],
 "metadata": {
  "anaconda-cloud": {},
  "kernelspec": {
   "display_name": "Julia 0.6.0",
   "language": "julia",
   "name": "julia-0.6"
  },
  "language_info": {
   "file_extension": ".jl",
   "mimetype": "application/julia",
   "name": "julia",
   "version": "0.6.0"
  }
 },
 "nbformat": 4,
 "nbformat_minor": 1
}
